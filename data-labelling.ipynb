{
 "cells": [
  {
   "cell_type": "code",
   "execution_count": 22,
   "id": "dfbb3111",
   "metadata": {},
   "outputs": [
    {
     "name": "stdout",
     "output_type": "stream",
     "text": [
      "   G  C  B  A          Ia          Ib          Ic        Va        Vb  \\\n",
      "0  1  0  0  1 -151.291812   -9.677452   85.800162  0.400750 -0.132935   \n",
      "1  1  0  0  1 -336.186183  -76.283262   18.328897  0.312732 -0.123633   \n",
      "2  1  0  0  1 -502.891583 -174.648023  -80.924663  0.265728 -0.114301   \n",
      "3  1  0  0  1 -593.941905 -217.703359 -124.891924  0.235511 -0.104940   \n",
      "4  1  0  0  1 -643.663617 -224.159427 -132.282815  0.209537 -0.095554   \n",
      "\n",
      "         Vc  \n",
      "0 -0.267815  \n",
      "1 -0.189099  \n",
      "2 -0.151428  \n",
      "3 -0.130570  \n",
      "4 -0.113983  \n"
     ]
    }
   ],
   "source": [
    "import pandas as pd\n",
    "\n",
    "# Load the CSV file\n",
    "df = pd.read_csv('dataset/kaggle-dataset.csv')\n",
    "\n",
    "# Display the first few rows of the DataFrame\n",
    "print(df.head())\n"
   ]
  },
  {
   "cell_type": "code",
   "execution_count": 23,
   "id": "0c5726e2",
   "metadata": {},
   "outputs": [
    {
     "name": "stdout",
     "output_type": "stream",
     "text": [
      "           Ia          Ib          Ic        Va        Vb        Vc  \\\n",
      "0 -151.291812   -9.677452   85.800162  0.400750 -0.132935 -0.267815   \n",
      "1 -336.186183  -76.283262   18.328897  0.312732 -0.123633 -0.189099   \n",
      "2 -502.891583 -174.648023  -80.924663  0.265728 -0.114301 -0.151428   \n",
      "3 -593.941905 -217.703359 -124.891924  0.235511 -0.104940 -0.130570   \n",
      "4 -643.663617 -224.159427 -132.282815  0.209537 -0.095554 -0.113983   \n",
      "\n",
      "                              Fault  \n",
      "0  Line-to-ground fault at phase: A  \n",
      "1  Line-to-ground fault at phase: A  \n",
      "2  Line-to-ground fault at phase: A  \n",
      "3  Line-to-ground fault at phase: A  \n",
      "4  Line-to-ground fault at phase: A  \n"
     ]
    }
   ],
   "source": [
    "# Define function to determine label\n",
    "\n",
    "from enum import Enum\n",
    "\n",
    "class Fault(Enum):\n",
    "    NA = 'No Fault'\n",
    "    LL = 'Line-to-line fault'\n",
    "    LLL = 'Line-to-line-to-line fault'\n",
    "    LG = 'Line-to-ground fault'\n",
    "    LLG = 'Line-to-line-to-ground fault'\n",
    "    LLLG = 'Line-to-line-to-line-to-ground fault'\n",
    "\n",
    "def determine_fault_label(row):\n",
    "    ground = bool(row['G'])\n",
    "    phase_list = []\n",
    "    if(row['A']): phase_list.append('A')\n",
    "    if(row['B']): phase_list.append('B')\n",
    "    if(row['C']): phase_list.append('C')\n",
    "    no_of_phases = len(phase_list)\n",
    "    if(not ground and no_of_phases == 0):\n",
    "        return Fault.NA.value\n",
    "    fault_type = ''\n",
    "    if(ground):\n",
    "        if(len(phase_list)==1): fault_type = Fault.LG\n",
    "        elif(len(phase_list)==2): fault_type = Fault.LLG\n",
    "        elif(len(phase_list)==3): fault_type = Fault.LLLG\n",
    "    else:\n",
    "        if(len(phase_list)==2): fault_type = Fault.LL\n",
    "        if(len(phase_list)==3): fault_type = Fault.LLL\n",
    "    fault_phase = ''\n",
    "    if(len(phase_list)==1): fault_phase =' at phase: '\n",
    "    else: fault_phase =' at phases: '\n",
    "    return fault_type.value + fault_phase + ', '.join(phase_list)\n",
    "\n",
    "# Add Fault label\n",
    "df['Fault'] = df.apply(determine_fault_label, axis=1)\n",
    "df = df.drop(columns=['G', 'A', 'B', 'C'])\n",
    "print(df.head())\n",
    "\n",
    "df.to_csv('./dataset/labeled-dataset.csv', index=False)"
   ]
  },
  {
   "cell_type": "code",
   "execution_count": 24,
   "id": "b986f711",
   "metadata": {},
   "outputs": [
    {
     "name": "stdout",
     "output_type": "stream",
     "text": [
      "           Ia          Ib          Ic        Va        Vb        Vc  \\\n",
      "0  173.964293  659.110478   57.747991  0.040698 -0.288973  0.248275   \n",
      "1  499.863859   -9.298764   42.024224  0.277323 -0.586687  0.309364   \n",
      "2  435.393473  447.805924 -883.200376  0.042335 -0.022331 -0.020004   \n",
      "3   56.942625 -398.275160  343.890959  0.325074  0.037872 -0.362945   \n",
      "4 -203.196547 -643.310095  846.504388 -0.041061  0.011471  0.029589   \n",
      "\n",
      "                                               Fault  \n",
      "0       Line-to-line-to-ground fault at phases: A, B  \n",
      "1                   Line-to-ground fault at phase: A  \n",
      "2  Line-to-line-to-line-to-ground fault at phases...  \n",
      "3                 Line-to-line fault at phases: B, C  \n",
      "4  Line-to-line-to-line-to-ground fault at phases...  \n"
     ]
    }
   ],
   "source": [
    "df = df.sample(frac=1).reset_index(drop=True)\n",
    "\n",
    "print(df.head())\n",
    "\n",
    "df.to_csv('./dataset/labeled-jumbled-dataset.csv', index=False)"
   ]
  }
 ],
 "metadata": {
  "kernelspec": {
   "display_name": ".venv (3.12.3)",
   "language": "python",
   "name": "python3"
  },
  "language_info": {
   "codemirror_mode": {
    "name": "ipython",
    "version": 3
   },
   "file_extension": ".py",
   "mimetype": "text/x-python",
   "name": "python",
   "nbconvert_exporter": "python",
   "pygments_lexer": "ipython3",
   "version": "3.12.3"
  }
 },
 "nbformat": 4,
 "nbformat_minor": 5
}
